{
 "cells": [
  {
   "cell_type": "markdown",
   "metadata": {},
   "source": [
    "# A contracting cube\n",
    "\n",
    "**Joakim Sundnes**\n",
    "\n",
    "Date: **June 20, 2025**\n",
    "\n",
    "\n",
    "## Model outline\n",
    "This notebook introduces a slight extension of the simple unit cube model introduced previously. The model will still be a simple unit cube, fixed at one end ($x=0$) and loaded with a pressure load (negative pressure, i.e. stretch) at the other end ($x=1.0$). The following two extensions will be introduced:\n",
    "* Replace the StVenant-Kirchhoff model with a model from Guccione et al (1995). \n",
    "* Add a time-varying active stress to the model"
   ]
  },
  {
   "cell_type": "markdown",
   "metadata": {},
   "source": [
    "### The material model by Guccione et al\n",
    "\n",
    "Soft biological tissues typically follow an exponential stress-strain relation. This relation was originally described by Fung, and has been implemented in a wide range of models for isotropic and anisotropic tissues. One of the most widely used material models for passive cardiac tissue is the model of Guccione et al from 1995. Several versions of the model have been used in the literature. We apply a transversely isotropic and nearly incompressible version, with strain energy given by:\n",
    "$$\n",
    "\\begin{align*}\n",
    "Q &= b_f E_{11}^2 + b_t (E_{22}^2 + E_{33}^2 + E_{23}^2 + E_{32}^2) + b_{fs}(E_{12}^2 + E_{21}^2 + E_{13}^2 + E_{31}^2),\\\\\n",
    "\\Psi &= \\frac{C}{2}(e^Q-1)+ \\kappa(J\\ln(J)-J+1)  .\n",
    "\\end{align*}\n",
    "$$\n",
    "Here $E_{ij}$ are the components of the Green-Lagrange strain tensor, defined relative to the local fiber orientation. Furthermore $J$ is the determinant of the deformation gradient $F$ ($J=1$ for an incompressible material), and $C,B_f,b_t,b_{fs}, \\kappa$ are material parameters. "
   ]
  },
  {
   "cell_type": "markdown",
   "metadata": {},
   "source": [
    "### Setting up the Fenics solver\n",
    "The bulk of the solver code will be identical to the first version of the unit cube. First, the usual imports, defining the mesh, the relevant function space and functions, and finally the Neumann and Dirichlet boundary conditions:"
   ]
  },
  {
   "cell_type": "code",
   "execution_count": 9,
   "metadata": {},
   "outputs": [],
   "source": [
    "import matplotlib.pyplot as plt\n",
    "import numpy as np\n",
    "from fenics import *\n",
    "\n",
    "# Optimization options for the form compiler\n",
    "parameters[\"form_compiler\"][\"cpp_optimize\"] = True\n",
    "parameters[\"form_compiler\"][\"representation\"] = \"uflacs\"\n",
    "parameters[\"form_compiler\"][\"quadrature_degree\"] = 4\n",
    "\n",
    "\n",
    "# Setup the mesh and the function space for the solutions\n",
    "mesh = UnitCubeMesh(4,4,4)\n",
    "V = VectorFunctionSpace(mesh, \"Lagrange\", 2)\n",
    "\n",
    "\n",
    "# Define functions\n",
    "v  = TestFunction(V)             # Test function\n",
    "u  = Function(V)                 # Displacement from previous iteration\n",
    "\n",
    "# Mark boundary subdomains\n",
    "left =  CompiledSubDomain(\"near(x[0], side) && on_boundary\", side = 0.0)\n",
    "right = CompiledSubDomain(\"near(x[0], side) && on_boundary\", side = 1.0)\n",
    "\n",
    "boundary_markers = MeshFunction(\"size_t\", mesh,mesh.topology().dim() - 1)\n",
    "boundary_markers.set_all(0)\n",
    "left.mark(boundary_markers, 1)\n",
    "right.mark(boundary_markers, 2)\n",
    "\n",
    "# Redefine boundary measure\n",
    "ds = Measure('ds',domain=mesh,subdomain_data=boundary_markers)\n",
    "\n",
    "# Define Dirichlet boundary (x = 0 or x = 1)\n",
    "clamp = Constant((0.0, 0.0, 0.0))\n",
    "bc = DirichletBC(V, clamp, left)\n",
    "bcs = [bc]"
   ]
  },
  {
   "cell_type": "markdown",
   "metadata": {},
   "source": [
    "Next, we turn to defining the mechanics problem. The following code cell is identical to the exercise from yesterday, and goes through the following steps:\n",
    "* Define the relevant kinematics\n",
    "* Define the strain energy function\n",
    "* Define the weak form, including the boundary conditions defined above\n",
    "* Solve the problem with a for loop, gradually increasing the load\n",
    "* Store the solution for plotting in Paraview, and plot the displacement in a single point\n",
    "\n"
   ]
  },
  {
   "cell_type": "code",
   "execution_count": 10,
   "metadata": {
    "tags": [
     "hide-input",
     "hide-output"
    ]
   },
   "outputs": [
    {
     "name": "stdout",
     "output_type": "stream",
     "text": [
      "    No Jacobian form specified for nonlinear variational problem.\n",
      "    Differentiating residual form F to obtain Jacobian J = F'.\n",
      "    Solving nonlinear variational problem.\n",
      "      Newton iteration 0: r (abs) = 0.000e+00 (tol = 1.000e-10) r (rel) = nan (tol = 1.000e-09)\n",
      "      Newton solver finished in 0 iterations and 0 linear solver iterations.\n",
      "    No Jacobian form specified for nonlinear variational problem.\n",
      "    Differentiating residual form F to obtain Jacobian J = F'.\n",
      "    Solving nonlinear variational problem.\n",
      "      Newton iteration 0: r (abs) = 3.455e-01 (tol = 1.000e-10) r (rel) = 1.000e+00 (tol = 1.000e-09)\n",
      "      Newton iteration 1: r (abs) = 2.187e-01 (tol = 1.000e-10) r (rel) = 6.331e-01 (tol = 1.000e-09)\n",
      "      Newton iteration 2: r (abs) = 9.950e-03 (tol = 1.000e-10) r (rel) = 2.880e-02 (tol = 1.000e-09)\n",
      "      Newton iteration 3: r (abs) = 1.126e-04 (tol = 1.000e-10) r (rel) = 3.258e-04 (tol = 1.000e-09)\n",
      "      Newton iteration 4: r (abs) = 1.776e-08 (tol = 1.000e-10) r (rel) = 5.142e-08 (tol = 1.000e-09)\n",
      "      Newton iteration 5: r (abs) = 2.654e-15 (tol = 1.000e-10) r (rel) = 7.681e-15 (tol = 1.000e-09)\n",
      "      Newton solver finished in 5 iterations and 5 linear solver iterations.\n",
      "    No Jacobian form specified for nonlinear variational problem.\n",
      "    Differentiating residual form F to obtain Jacobian J = F'.\n",
      "    Solving nonlinear variational problem.\n",
      "      Newton iteration 0: r (abs) = 2.972e-01 (tol = 1.000e-10) r (rel) = 1.000e+00 (tol = 1.000e-09)\n",
      "      Newton iteration 1: r (abs) = 6.529e-02 (tol = 1.000e-10) r (rel) = 2.197e-01 (tol = 1.000e-09)\n",
      "      Newton iteration 2: r (abs) = 7.136e-04 (tol = 1.000e-10) r (rel) = 2.401e-03 (tol = 1.000e-09)\n",
      "      Newton iteration 3: r (abs) = 3.764e-07 (tol = 1.000e-10) r (rel) = 1.266e-06 (tol = 1.000e-09)\n",
      "      Newton iteration 4: r (abs) = 1.606e-13 (tol = 1.000e-10) r (rel) = 5.403e-13 (tol = 1.000e-09)\n",
      "      Newton solver finished in 4 iterations and 4 linear solver iterations.\n",
      "    No Jacobian form specified for nonlinear variational problem.\n",
      "    Differentiating residual form F to obtain Jacobian J = F'.\n",
      "    Solving nonlinear variational problem.\n",
      "      Newton iteration 0: r (abs) = 2.659e-01 (tol = 1.000e-10) r (rel) = 1.000e+00 (tol = 1.000e-09)\n",
      "      Newton iteration 1: r (abs) = 3.224e-02 (tol = 1.000e-10) r (rel) = 1.213e-01 (tol = 1.000e-09)\n",
      "      Newton iteration 2: r (abs) = 1.424e-04 (tol = 1.000e-10) r (rel) = 5.355e-04 (tol = 1.000e-09)\n",
      "      Newton iteration 3: r (abs) = 1.091e-08 (tol = 1.000e-10) r (rel) = 4.101e-08 (tol = 1.000e-09)\n",
      "      Newton iteration 4: r (abs) = 5.257e-15 (tol = 1.000e-10) r (rel) = 1.977e-14 (tol = 1.000e-09)\n",
      "      Newton solver finished in 4 iterations and 4 linear solver iterations.\n",
      "    No Jacobian form specified for nonlinear variational problem.\n",
      "    Differentiating residual form F to obtain Jacobian J = F'.\n",
      "    Solving nonlinear variational problem.\n",
      "      Newton iteration 0: r (abs) = 2.426e-01 (tol = 1.000e-10) r (rel) = 1.000e+00 (tol = 1.000e-09)\n",
      "      Newton iteration 1: r (abs) = 1.913e-02 (tol = 1.000e-10) r (rel) = 7.884e-02 (tol = 1.000e-09)\n",
      "      Newton iteration 2: r (abs) = 4.374e-05 (tol = 1.000e-10) r (rel) = 1.803e-04 (tol = 1.000e-09)\n",
      "      Newton iteration 3: r (abs) = 8.025e-10 (tol = 1.000e-10) r (rel) = 3.308e-09 (tol = 1.000e-09)\n",
      "      Newton iteration 4: r (abs) = 6.729e-15 (tol = 1.000e-10) r (rel) = 2.773e-14 (tol = 1.000e-09)\n",
      "      Newton solver finished in 4 iterations and 4 linear solver iterations.\n"
     ]
    },
    {
     "data": {
      "image/png": "[encoded data removed]",
      "text/plain": [
       "<Figure size 432x288 with 1 Axes>"
      ]
     },
     "metadata": {
      "needs_background": "light"
     },
     "output_type": "display_data"
    }
   ],
   "source": [
    "# Kinematics\n",
    "d = len(u)\n",
    "I = Identity(d)             # Identity tensor\n",
    "F = I + grad(u)             # Deformation gradient\n",
    "C = F.T*F                   # the right Cauchy-Green tensor\n",
    "E = 0.5*(C - I)             # the Green-Lagrange strain tensor\n",
    "\n",
    "# Material parameters (Lamé parameters)\n",
    "mu    = 4.0  \n",
    "lmbda = 20.0  \n",
    "\n",
    "# The strain energy for the St-Venant Kirchhoff model:\n",
    "E = variable(E)\n",
    "psi = lmbda / 2 * (tr(E)**2) + mu * tr(E * E)\n",
    "\n",
    "S = diff(psi, E) #second Piola-Kirchhoff stress\n",
    "P = F * S         #First Piola-Kirchhoff stress\n",
    "\n",
    "p_right = Constant(0.0) #the pressure load (zero for now)\n",
    "\n",
    "# Definition of the weak form:\n",
    "N = FacetNormal(mesh)\n",
    "Gext = p_right * inner(v, det(F) * inv(F) * N) * ds(2) #ds(2) = left boundary\n",
    "R = inner(P,grad(v)) * dx + Gext \n",
    "\n",
    "#Finally, we solve the problem for different loads, and plot the load vs displacement. \n",
    "# The middle point on the right boundary\n",
    "point0 = np.array([1.0,0.5,0.5])\n",
    "\n",
    "# Step-wise loading (for plotting and convergence)\n",
    "load_steps = 5\n",
    "target_load = 10.0\n",
    "loads = np.linspace(0, target_load, load_steps)\n",
    "\n",
    "d0 = np.zeros(3)                #displacement at point0\n",
    "disp = np.zeros(load_steps) #array to store displacement for all steps\n",
    "\n",
    "disp_file = XDMFFile(\"displacement/u.xdmf\")\n",
    "\n",
    "for step in range(load_steps):\n",
    "    # Stretch is a negative pressure\n",
    "    p_right.assign(-loads[step])\n",
    "    \n",
    "    #solve the problem:\n",
    "    solve(R == 0, u, bcs)\n",
    "    \n",
    "    #evaluate displacement at point defined above\n",
    "    u.eval(d0,point0)\n",
    "    disp[step] = d0[0]\n",
    "\n",
    "    disp_file.write_checkpoint(u, \"Displacement\", step, append=True)\n",
    "\n",
    "disp_file.close()\n",
    "\n",
    "#displacement on x-axis, load on y-axis\n",
    "plt.figure(1)\n",
    "plt.plot(disp,loads)\n",
    "plt.xlabel('Displacement of point (1.0, 0.5, 0.5)')\n",
    "plt.ylabel('Applied pressure load')\n",
    "\n",
    "plt.show()"
   ]
  },
  {
   "cell_type": "markdown",
   "metadata": {},
   "source": [
    "## Step 1: Replace the StVenant-Kirchhoff material model\n",
    "Modify the code above to use the Guccione material model. You can implement the strain energy function directly yourself, or you can use an existing Python class which can be found here:\n",
    "\n",
    "* [Guccione model (1995)](./guccionematerial.py)\n",
    "\n",
    "The class supports both fully incompressible and nearly incompressible models. The key part is the function named `strain_energy`, which defines the strain energy as a function of the deformation gradient $F$. \n",
    "\n",
    "An important difference between the StVenant-Kirchhoff material and the Guccione model is that the Guccione model is anisotropic, meaning that the material properties are different in different directions. The material model therefore needs to know about the local tissue microstructure, i.e., the orientation of the fiber-, sheet- and sheet normal directions. For flexibility and generality, our material model class takes these vectors (or vector fields) as input parameters, as can be seen in the class' constructor.  \n",
    "\n",
    "In our simple unit cube, it is natural to define the fiber direction as parallel with the x-axis, the sheet direction parallel with the y-axis, and the normal direction parallel with the z-axis. Code for defining these vectors can look as follows:"
   ]
  },
  {
   "cell_type": "code",
   "execution_count": 11,
   "metadata": {},
   "outputs": [],
   "source": [
    "# Tissue microstructure\n",
    "f0 = as_vector([ 1.0, 0.0, 0.0 ])\n",
    "s0 = as_vector([ 0.0, 1.0, 0.0 ])\n",
    "n0 = as_vector([ 0.0, 0.0, 1.0 ])"
   ]
  },
  {
   "cell_type": "markdown",
   "metadata": {},
   "source": [
    "Add these code lines and the necessary calls to the Guccione model class in the code above, to replace the StVenant-Kirchhoff material model with the Guccione material. "
   ]
  },
  {
   "cell_type": "markdown",
   "metadata": {},
   "source": [
    "## Step 2: Add active contraction\n",
    "\n",
    "Next, we want to add active contraction to the tissue cube. If we want to simulate a full cardiac cycle, a simple option would be to assign an active stress transient similar to the one output from the Rice et al model:"
   ]
  },
  {
   "cell_type": "code",
   "execution_count": 12,
   "metadata": {},
   "outputs": [
    {
     "data": {
      "image/png": "[encoded data removed]",
      "text/plain": [
       "<Figure size 432x288 with 1 Axes>"
      ]
     },
     "metadata": {
      "needs_background": "light"
     },
     "output_type": "display_data"
    }
   ],
   "source": [
    "import matplotlib.pyplot as plt\n",
    "import numpy as np\n",
    "import math\n",
    "\n",
    "force_amplitude=1.0\n",
    "#Ca_diastolic=0.09\n",
    "start_time=5, \n",
    "tau1=20 \n",
    "tau2=110\n",
    "t = np.linspace(0,1000,101)\n",
    "\n",
    "beta = -math.pow(tau1/tau2, -1/(1 - tau2/tau1)) + math.pow(tau1/tau2,\\\n",
    "        -1/(-1 + tau1/tau2))\n",
    "force = ((force_amplitude)*(np.exp((start_time - t)/tau1) -\\\n",
    "        np.exp((start_time - t)/tau2))/beta) \n",
    "\n",
    "#the following line implements the if test in numpy without a loop\n",
    "force = force*(t>=start_time)+ 0.0*(t<start_time)\n",
    "\n",
    "plt.plot(t,force)\n",
    "plt.show()"
   ]
  },
  {
   "cell_type": "markdown",
   "metadata": {},
   "source": [
    "For now, we will keep things even simpler, and simply model the first phase of contraction by adding a linearly increasing active stress. For this case we consider an unloaded cube ($p=0$ on the right boundary). If you used the `GuccioneModel` class above to define the passive material properties, the active stress may be set in the function `set_active_stress`. \n",
    "\n",
    "A suitable definition of a linearly increasing active stress can be as follows:"
   ]
  },
  {
   "cell_type": "code",
   "execution_count": 13,
   "metadata": {},
   "outputs": [],
   "source": [
    "# Step-wise loading (for plotting and convergence)\n",
    "active_steps = 6\n",
    "target_active = 5.0\n",
    "active = np.linspace(0,target_active,active_steps)"
   ]
  },
  {
   "cell_type": "markdown",
   "metadata": {},
   "source": [
    "Add these lines and a suitable call to the `set_active_stress` function to the code above, to make the cube contract actively."
   ]
  },
  {
   "cell_type": "markdown",
   "metadata": {},
   "source": [
    "### Solution\n",
    "The code below includes the complete solution for the active cube. "
   ]
  },
  {
   "cell_type": "code",
   "execution_count": 17,
   "metadata": {
    "tags": [
     "hide-input",
     "hide-output"
    ]
   },
   "outputs": [
    {
     "name": "stdout",
     "output_type": "stream",
     "text": [
      "      No Jacobian form specified for nonlinear variational problem.\n",
      "      Differentiating residual form F to obtain Jacobian J = F'.\n",
      "      Solving nonlinear variational problem.\n",
      "        Newton iteration 0: r (abs) = 0.000e+00 (tol = 1.000e-10) r (rel) = nan (tol = 1.000e-09)\n",
      "        Newton solver finished in 0 iterations and 0 linear solver iterations.\n",
      "      No Jacobian form specified for nonlinear variational problem.\n",
      "      Differentiating residual form F to obtain Jacobian J = F'.\n",
      "      Solving nonlinear variational problem.\n",
      "        Newton iteration 0: r (abs) = 1.295e-01 (tol = 1.000e-10) r (rel) = 1.000e+00 (tol = 1.000e-09)\n",
      "        Newton iteration 1: r (abs) = 6.459e-02 (tol = 1.000e-10) r (rel) = 4.986e-01 (tol = 1.000e-09)\n",
      "        Newton iteration 2: r (abs) = 2.628e-04 (tol = 1.000e-10) r (rel) = 2.029e-03 (tol = 1.000e-09)\n",
      "        Newton iteration 3: r (abs) = 1.051e-07 (tol = 1.000e-10) r (rel) = 8.113e-07 (tol = 1.000e-09)\n",
      "        Newton iteration 4: r (abs) = 7.339e-15 (tol = 1.000e-10) r (rel) = 5.665e-14 (tol = 1.000e-09)\n",
      "        Newton solver finished in 4 iterations and 4 linear solver iterations.\n",
      "      No Jacobian form specified for nonlinear variational problem.\n",
      "      Differentiating residual form F to obtain Jacobian J = F'.\n",
      "      Solving nonlinear variational problem.\n",
      "        Newton iteration 0: r (abs) = 1.173e-01 (tol = 1.000e-10) r (rel) = 1.000e+00 (tol = 1.000e-09)\n",
      "        Newton iteration 1: r (abs) = 5.952e-02 (tol = 1.000e-10) r (rel) = 5.073e-01 (tol = 1.000e-09)\n",
      "        Newton iteration 2: r (abs) = 7.977e-05 (tol = 1.000e-10) r (rel) = 6.799e-04 (tol = 1.000e-09)\n",
      "        Newton iteration 3: r (abs) = 4.241e-08 (tol = 1.000e-10) r (rel) = 3.615e-07 (tol = 1.000e-09)\n",
      "        Newton iteration 4: r (abs) = 9.055e-15 (tol = 1.000e-10) r (rel) = 7.718e-14 (tol = 1.000e-09)\n",
      "        Newton solver finished in 4 iterations and 4 linear solver iterations.\n",
      "      No Jacobian form specified for nonlinear variational problem.\n",
      "      Differentiating residual form F to obtain Jacobian J = F'.\n",
      "      Solving nonlinear variational problem.\n",
      "        Newton iteration 0: r (abs) = 1.077e-01 (tol = 1.000e-10) r (rel) = 1.000e+00 (tol = 1.000e-09)\n",
      "        Newton iteration 1: r (abs) = 4.624e-02 (tol = 1.000e-10) r (rel) = 4.294e-01 (tol = 1.000e-09)\n",
      "        Newton iteration 2: r (abs) = 6.309e-05 (tol = 1.000e-10) r (rel) = 5.859e-04 (tol = 1.000e-09)\n",
      "        Newton iteration 3: r (abs) = 9.316e-09 (tol = 1.000e-10) r (rel) = 8.652e-08 (tol = 1.000e-09)\n",
      "        Newton iteration 4: r (abs) = 9.695e-15 (tol = 1.000e-10) r (rel) = 9.004e-14 (tol = 1.000e-09)\n",
      "        Newton solver finished in 4 iterations and 4 linear solver iterations.\n",
      "      No Jacobian form specified for nonlinear variational problem.\n",
      "      Differentiating residual form F to obtain Jacobian J = F'.\n",
      "      Solving nonlinear variational problem.\n",
      "        Newton iteration 0: r (abs) = 1.004e-01 (tol = 1.000e-10) r (rel) = 1.000e+00 (tol = 1.000e-09)\n",
      "        Newton iteration 1: r (abs) = 3.396e-02 (tol = 1.000e-10) r (rel) = 3.381e-01 (tol = 1.000e-09)\n",
      "        Newton iteration 2: r (abs) = 7.670e-05 (tol = 1.000e-10) r (rel) = 7.638e-04 (tol = 1.000e-09)\n",
      "        Newton iteration 3: r (abs) = 6.502e-09 (tol = 1.000e-10) r (rel) = 6.475e-08 (tol = 1.000e-09)\n",
      "        Newton iteration 4: r (abs) = 1.129e-14 (tol = 1.000e-10) r (rel) = 1.125e-13 (tol = 1.000e-09)\n",
      "        Newton solver finished in 4 iterations and 4 linear solver iterations.\n",
      "      No Jacobian form specified for nonlinear variational problem.\n",
      "      Differentiating residual form F to obtain Jacobian J = F'.\n",
      "      Solving nonlinear variational problem.\n",
      "        Newton iteration 0: r (abs) = 9.493e-02 (tol = 1.000e-10) r (rel) = 1.000e+00 (tol = 1.000e-09)\n",
      "        Newton iteration 1: r (abs) = 2.509e-02 (tol = 1.000e-10) r (rel) = 2.643e-01 (tol = 1.000e-09)\n",
      "        Newton iteration 2: r (abs) = 6.143e-05 (tol = 1.000e-10) r (rel) = 6.472e-04 (tol = 1.000e-09)\n",
      "        Newton iteration 3: r (abs) = 2.753e-09 (tol = 1.000e-10) r (rel) = 2.900e-08 (tol = 1.000e-09)\n",
      "        Newton iteration 4: r (abs) = 1.225e-14 (tol = 1.000e-10) r (rel) = 1.291e-13 (tol = 1.000e-09)\n",
      "        Newton solver finished in 4 iterations and 4 linear solver iterations.\n"
     ]
    },
    {
     "data": {
      "image/png": "[encoded data removed]",
      "text/plain": [
       "<Figure size 432x288 with 1 Axes>"
      ]
     },
     "metadata": {
      "needs_background": "light"
     },
     "output_type": "display_data"
    }
   ],
   "source": [
    "from guccionematerial import GuccioneMaterial\n",
    "import matplotlib.pyplot as plt\n",
    "import numpy as np\n",
    "from fenics import *\n",
    "\n",
    "# Optimization options for the form compiler\n",
    "parameters[\"form_compiler\"][\"cpp_optimize\"] = True\n",
    "parameters[\"form_compiler\"][\"representation\"] = \"uflacs\"\n",
    "parameters[\"form_compiler\"][\"quadrature_degree\"] = 4\n",
    "\n",
    "\n",
    "# Setup the mesh and the function space for the solutions\n",
    "mesh = UnitCubeMesh(4,4,4)\n",
    "V = VectorFunctionSpace(mesh, \"Lagrange\", 2)\n",
    "\n",
    "\n",
    "# Define functions\n",
    "v  = TestFunction(V)             # Test function\n",
    "u  = Function(V)                 # Displacement from previous iteration\n",
    "\n",
    "# Mark boundary subdomains\n",
    "left =  CompiledSubDomain(\"near(x[0], side) && on_boundary\", side = 0.0)\n",
    "right = CompiledSubDomain(\"near(x[0], side) && on_boundary\", side = 1.0)\n",
    "\n",
    "boundary_markers = MeshFunction(\"size_t\", mesh,mesh.topology().dim() - 1)\n",
    "boundary_markers.set_all(0)\n",
    "left.mark(boundary_markers, 1)\n",
    "right.mark(boundary_markers, 2)\n",
    "\n",
    "# Redefine boundary measure\n",
    "ds = Measure('ds',domain=mesh,subdomain_data=boundary_markers)\n",
    "\n",
    "# Define Dirichlet boundary (x = 0 or x = 1)\n",
    "clamp = Constant((0.0, 0.0, 0.0))\n",
    "bc = DirichletBC(V, clamp, left)\n",
    "bcs = [bc]\n",
    "\n",
    "\n",
    "\n",
    "\n",
    "# Kinematics\n",
    "d = len(u)\n",
    "I = Identity(d)             # Identity tensor\n",
    "F = I + grad(u)             # Deformation gradient\n",
    "F = variable(F)\n",
    "C = F.T*F                   # the right Cauchy-Green tensor\n",
    "E = 0.5*(C - I)             # the Green-Lagrange strain tensor\n",
    "\n",
    "# Material parameters (Lamé parameters)\n",
    "mu    = 4.0  \n",
    "lmbda = 20.0  \n",
    "\n",
    "# The strain energy for the St-Venant Kirchhoff model:\n",
    "#psi = lmbda / 2 * (tr(E)**2) + mu * tr(E * E)\n",
    "#P = diff(psi, F)\n",
    "\n",
    "# Tissue microstructure (needed by the GuccioneMaterial class)\n",
    "f0 = as_vector([ 1.0, 0.0, 0.0 ])\n",
    "s0 = as_vector([ 0.0, 1.0, 0.0 ])\n",
    "n0 = as_vector([ 0.0, 0.0, 1.0 ])\n",
    "\n",
    "\"\"\"\n",
    "Create an instance of the material model class, differentiate the\n",
    "class' strain_energy function to get the stress. The parameter\n",
    "Tactive is set to zero for now, to be update later\n",
    "\"\"\"\n",
    "material = GuccioneMaterial(e1 = f0, e2 = s0, e3 = n0, kappa = 1e2, Tactive = 0)\n",
    "psi = material.strain_energy(F)\n",
    "P = diff(psi, F)\n",
    "\n",
    "\n",
    "#for this example we keep the pressure at zero, but keep it here for flexibility\n",
    "p_right = Constant(0.0) \n",
    "\n",
    "# Definition of the weak form:\n",
    "N = FacetNormal(mesh)\n",
    "Gext = p_right * inner(v, det(F) * inv(F) * N) * ds(2) #ds(2) = left boundary\n",
    "R = inner(P, grad(v)) * dx + Gext \n",
    "\n",
    "# Step-wise loading (for plotting and convergence)\n",
    "#load_steps = 5\n",
    "#target_load = 10.0\n",
    "#loads = np.linspace(0, target_load, load_steps)\n",
    "\n",
    "#ramp up the active tension from 0 to 5 in 6 steps\n",
    "active_steps = 6\n",
    "target_active = 5.0\n",
    "active = np.linspace(0, target_active, active_steps)\n",
    "\n",
    "point0 = np.array([1.0,0.5,0.5]) #middle point on right boundary\n",
    "d0 = np.zeros(3)                 #displacement at point0\n",
    "disp = np.zeros(active_steps)      #array to store displacement for all steps\n",
    "disp_file = File(\"displacement/u.pvd\")\n",
    "\n",
    "\n",
    "for step in range(active_steps):\n",
    "        \n",
    "    material.set_active_stress(active[step])\n",
    "    \n",
    "    #solve the problem:\n",
    "    solve(R == 0, u, bcs)\n",
    "    \n",
    "    #evaluate displacement at point defined above\n",
    "    u.eval(d0,point0)\n",
    "    disp[step] = d0[0]\n",
    "\n",
    "    disp_file << u\n",
    "    \n",
    "\n",
    "#displacement on x-axis, load on y-axis\n",
    "plt.figure(1)\n",
    "plt.plot(disp,active)\n",
    "plt.xlabel('Displacement of point (1.0, 0.5, 0.5)')\n",
    "plt.ylabel('Applied pressure load')\n",
    "\n",
    "plt.show()"
   ]
  },
  {
   "cell_type": "code",
   "execution_count": null,
   "metadata": {},
   "outputs": [],
   "source": []
  }
 ],
 "metadata": {
  "kernelspec": {
   "display_name": "Python 3 (ipykernel)",
   "language": "python",
   "name": "python3"
  },
  "language_info": {
   "codemirror_mode": {
    "name": "ipython",
    "version": 3
   },
   "file_extension": ".py",
   "mimetype": "text/x-python",
   "name": "python",
   "nbconvert_exporter": "python",
   "pygments_lexer": "ipython3",
   "version": "3.9.7"
  }
 },
 "nbformat": 4,
 "nbformat_minor": 4
}
